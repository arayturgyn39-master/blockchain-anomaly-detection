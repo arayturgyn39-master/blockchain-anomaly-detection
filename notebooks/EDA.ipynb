{
 "cells": [
  {
   "cell_type": "code",
   "metadata": {},
   "source": [
    "# Exploratory Data Analysis (EDA)\n",
    "import pandas as pd\n",
    "import matplotlib.pyplot as plt\n",
    "\n",
    "# Example: load your dataset (replace with real file later)\n",
    "# df = pd.read_csv('data/sample.csv')\n",
    "# df.head()"
   ],
   "outputs": [],
   "execution_count": null
  }
 ],
 "metadata": {
  "kernelspec": {
   "display_name": "Python 3",
   "language": "python",
   "name": "python3"
  },
  "language_info": {
   "name": "python",
   "version": "3.8"
  }
 },
 "nbformat": 4,
 "nbformat_minor": 2
}


import pandas as pd  
import numpy as np  
import matplotlib.pyplot as plt  

print("Blockchain Anomaly Detection - Project Started 🚀")
